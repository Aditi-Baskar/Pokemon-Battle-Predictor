{
 "cells": [
  {
   "cell_type": "markdown",
   "id": "gentle-colon",
   "metadata": {},
   "source": [
    "- Cleaning and joining datasets\n",
    "- Creating csv files for EDA and for training"
   ]
  },
  {
   "cell_type": "code",
   "execution_count": 1,
   "id": "designing-india",
   "metadata": {},
   "outputs": [
    {
     "data": {
      "text/html": [
       "<style>pre {white-space: pre !important}</style>"
      ],
      "text/plain": [
       "<IPython.core.display.HTML object>"
      ]
     },
     "metadata": {},
     "output_type": "display_data"
    }
   ],
   "source": [
    "def hscroll(activate=True):\n",
    "  \"\"\"activate/deactivate horizontal scrolling for wide output cells\"\"\"\n",
    "  from IPython.display import display, HTML\n",
    "  style = ('pre-wrap','pre')[activate] # select white-space style\n",
    "  display(HTML(\"<style>pre {white-space: %s !important}</style>\" % style))\n",
    "\n",
    "hscroll()"
   ]
  },
  {
   "cell_type": "code",
   "execution_count": 2,
   "id": "geographic-cleanup",
   "metadata": {},
   "outputs": [],
   "source": [
    "from pyspark.sql import SparkSession\n",
    "\n",
    "spark = SparkSession \\\n",
    "    .builder \\\n",
    "    .master(\"local[1]\")\\\n",
    "    .appName(\"eda\") \\\n",
    "    .getOrCreate()\n"
   ]
  },
  {
   "cell_type": "markdown",
   "id": "likely-lingerie",
   "metadata": {},
   "source": [
    "### File 1: pokemon.csv"
   ]
  },
  {
   "cell_type": "code",
   "execution_count": 3,
   "id": "legitimate-patrol",
   "metadata": {},
   "outputs": [],
   "source": [
    "pokemon=spark.read.csv(\"data/pokemon.csv\", header=True, inferSchema=True)"
   ]
  },
  {
   "cell_type": "code",
   "execution_count": 4,
   "id": "funky-territory",
   "metadata": {},
   "outputs": [
    {
     "name": "stdout",
     "output_type": "stream",
     "text": [
      "root\n",
      " |-- #: integer (nullable = true)\n",
      " |-- Name: string (nullable = true)\n",
      " |-- Type 1: string (nullable = true)\n",
      " |-- Type 2: string (nullable = true)\n",
      " |-- HP: integer (nullable = true)\n",
      " |-- Attack: integer (nullable = true)\n",
      " |-- Defense: integer (nullable = true)\n",
      " |-- Sp. Atk: integer (nullable = true)\n",
      " |-- Sp. Def: integer (nullable = true)\n",
      " |-- Speed: integer (nullable = true)\n",
      " |-- Generation: integer (nullable = true)\n",
      " |-- Legendary: boolean (nullable = true)\n",
      "\n"
     ]
    }
   ],
   "source": [
    "pokemon.printSchema()"
   ]
  },
  {
   "cell_type": "code",
   "execution_count": 5,
   "id": "spread-portland",
   "metadata": {},
   "outputs": [
    {
     "data": {
      "text/plain": [
       "800"
      ]
     },
     "execution_count": 5,
     "metadata": {},
     "output_type": "execute_result"
    }
   ],
   "source": [
    "pokemon.count()"
   ]
  },
  {
   "cell_type": "code",
   "execution_count": 6,
   "id": "suitable-walnut",
   "metadata": {},
   "outputs": [],
   "source": [
    "cols1=list(pokemon.schema.names)"
   ]
  },
  {
   "cell_type": "code",
   "execution_count": 7,
   "id": "utility-psychology",
   "metadata": {},
   "outputs": [
    {
     "name": "stdout",
     "output_type": "stream",
     "text": [
      "+--------------------+\n",
      "|count(DISTINCT Name)|\n",
      "+--------------------+\n",
      "|                 800|\n",
      "+--------------------+\n",
      "\n"
     ]
    }
   ],
   "source": [
    "from pyspark.sql.functions import countDistinct\n",
    "df=pokemon.select(countDistinct(\"Name\"))\n",
    "df.show()"
   ]
  },
  {
   "cell_type": "markdown",
   "id": "nasty-holmes",
   "metadata": {},
   "source": [
    "### File 2: pokedex.csv"
   ]
  },
  {
   "cell_type": "code",
   "execution_count": 8,
   "id": "agricultural-binary",
   "metadata": {},
   "outputs": [
    {
     "name": "stdout",
     "output_type": "stream",
     "text": [
      "root\n",
      " |-- pokedex_number: integer (nullable = true)\n",
      " |-- name: string (nullable = true)\n",
      " |-- generation: integer (nullable = true)\n",
      " |-- status: string (nullable = true)\n",
      " |-- species: string (nullable = true)\n",
      " |-- type_number: integer (nullable = true)\n",
      " |-- type_1: string (nullable = true)\n",
      " |-- type_2: string (nullable = true)\n",
      " |-- height_m: double (nullable = true)\n",
      " |-- weight_kg: double (nullable = true)\n",
      " |-- abilities_number: integer (nullable = true)\n",
      " |-- ability_1: string (nullable = true)\n",
      " |-- ability_2: string (nullable = true)\n",
      " |-- ability_hidden: string (nullable = true)\n",
      " |-- total_points: integer (nullable = true)\n",
      " |-- hp: integer (nullable = true)\n",
      " |-- attack: integer (nullable = true)\n",
      " |-- defense: integer (nullable = true)\n",
      " |-- sp_attack: integer (nullable = true)\n",
      " |-- sp_defense: integer (nullable = true)\n",
      " |-- speed: integer (nullable = true)\n",
      " |-- catch_rate: integer (nullable = true)\n",
      " |-- base_friendship: integer (nullable = true)\n",
      " |-- base_experience: integer (nullable = true)\n",
      " |-- growth_rate: string (nullable = true)\n",
      " |-- egg_type_number: integer (nullable = true)\n",
      " |-- egg_type_1: string (nullable = true)\n",
      " |-- egg_type_2: string (nullable = true)\n",
      " |-- percentage_male: double (nullable = true)\n",
      " |-- egg_cycles: integer (nullable = true)\n",
      " |-- against_normal: double (nullable = true)\n",
      " |-- against_fire: double (nullable = true)\n",
      " |-- against_water: double (nullable = true)\n",
      " |-- against_electric: double (nullable = true)\n",
      " |-- against_grass: double (nullable = true)\n",
      " |-- against_ice: double (nullable = true)\n",
      " |-- against_fight: double (nullable = true)\n",
      " |-- against_poison: double (nullable = true)\n",
      " |-- against_ground: double (nullable = true)\n",
      " |-- against_flying: double (nullable = true)\n",
      " |-- against_psychic: double (nullable = true)\n",
      " |-- against_bug: double (nullable = true)\n",
      " |-- against_rock: double (nullable = true)\n",
      " |-- against_ghost: double (nullable = true)\n",
      " |-- against_dragon: double (nullable = true)\n",
      " |-- against_dark: double (nullable = true)\n",
      " |-- against_steel: double (nullable = true)\n",
      " |-- against_fairy: double (nullable = true)\n",
      "\n"
     ]
    }
   ],
   "source": [
    "pokedex=spark.read.csv(\"data/pokedex.csv\", header=True, inferSchema=True)\n",
    "pokedex=pokedex.drop('german_name')\n",
    "pokedex=pokedex.drop('japanese_name')\n",
    "pokedex.printSchema()"
   ]
  },
  {
   "cell_type": "code",
   "execution_count": 9,
   "id": "bigger-standard",
   "metadata": {},
   "outputs": [
    {
     "data": {
      "text/plain": [
       "1045"
      ]
     },
     "execution_count": 9,
     "metadata": {},
     "output_type": "execute_result"
    }
   ],
   "source": [
    "pokedex.count()"
   ]
  },
  {
   "cell_type": "markdown",
   "id": "oriented-draft",
   "metadata": {},
   "source": [
    "Joining pokemon and pokedex"
   ]
  },
  {
   "cell_type": "code",
   "execution_count": 10,
   "id": "painted-bones",
   "metadata": {},
   "outputs": [],
   "source": [
    "pokemon=pokemon.join(pokedex, pokemon.Name==pokedex.name, how=\"inner\")"
   ]
  },
  {
   "cell_type": "code",
   "execution_count": 11,
   "id": "structural-radius",
   "metadata": {},
   "outputs": [
    {
     "data": {
      "text/plain": [
       "793"
      ]
     },
     "execution_count": 11,
     "metadata": {},
     "output_type": "execute_result"
    }
   ],
   "source": [
    "pokemon.count()"
   ]
  },
  {
   "cell_type": "code",
   "execution_count": 12,
   "id": "popular-manner",
   "metadata": {},
   "outputs": [
    {
     "name": "stderr",
     "output_type": "stream",
     "text": [
      "/usr/local/lib/python3.8/site-packages/pyspark/sql/context.py:112: FutureWarning: Deprecated in 3.0.0. Use SparkSession.builder.getOrCreate() instead.\n",
      "  warnings.warn(\n"
     ]
    },
    {
     "data": {
      "text/plain": [
       "DataFrame[key: string, value: string]"
      ]
     },
     "execution_count": 12,
     "metadata": {},
     "output_type": "execute_result"
    }
   ],
   "source": [
    "#Turn on case sensitivity while dropping columns\n",
    "from pyspark.sql import SQLContext\n",
    "sqlContext = SQLContext(spark.sparkContext)\n",
    "sqlContext.sql(\"set spark.sql.caseSensitive=true\")"
   ]
  },
  {
   "cell_type": "code",
   "execution_count": 13,
   "id": "pleasant-myanmar",
   "metadata": {},
   "outputs": [],
   "source": [
    "#Drop repeating columns\n",
    "cols_to_drop=cols1[1:-1]\n",
    "cols_to_drop.append(\"pokedex_number\")\n",
    "pokemon=pokemon.drop(*cols_to_drop)"
   ]
  },
  {
   "cell_type": "code",
   "execution_count": 14,
   "id": "together-variance",
   "metadata": {},
   "outputs": [
    {
     "name": "stdout",
     "output_type": "stream",
     "text": [
      "root\n",
      " |-- #: integer (nullable = true)\n",
      " |-- Legendary: boolean (nullable = true)\n",
      " |-- name: string (nullable = true)\n",
      " |-- generation: integer (nullable = true)\n",
      " |-- status: string (nullable = true)\n",
      " |-- species: string (nullable = true)\n",
      " |-- type_number: integer (nullable = true)\n",
      " |-- type_1: string (nullable = true)\n",
      " |-- type_2: string (nullable = true)\n",
      " |-- height_m: double (nullable = true)\n",
      " |-- weight_kg: double (nullable = true)\n",
      " |-- abilities_number: integer (nullable = true)\n",
      " |-- ability_1: string (nullable = true)\n",
      " |-- ability_2: string (nullable = true)\n",
      " |-- ability_hidden: string (nullable = true)\n",
      " |-- total_points: integer (nullable = true)\n",
      " |-- hp: integer (nullable = true)\n",
      " |-- attack: integer (nullable = true)\n",
      " |-- defense: integer (nullable = true)\n",
      " |-- sp_attack: integer (nullable = true)\n",
      " |-- sp_defense: integer (nullable = true)\n",
      " |-- speed: integer (nullable = true)\n",
      " |-- catch_rate: integer (nullable = true)\n",
      " |-- base_friendship: integer (nullable = true)\n",
      " |-- base_experience: integer (nullable = true)\n",
      " |-- growth_rate: string (nullable = true)\n",
      " |-- egg_type_number: integer (nullable = true)\n",
      " |-- egg_type_1: string (nullable = true)\n",
      " |-- egg_type_2: string (nullable = true)\n",
      " |-- percentage_male: double (nullable = true)\n",
      " |-- egg_cycles: integer (nullable = true)\n",
      " |-- against_normal: double (nullable = true)\n",
      " |-- against_fire: double (nullable = true)\n",
      " |-- against_water: double (nullable = true)\n",
      " |-- against_electric: double (nullable = true)\n",
      " |-- against_grass: double (nullable = true)\n",
      " |-- against_ice: double (nullable = true)\n",
      " |-- against_fight: double (nullable = true)\n",
      " |-- against_poison: double (nullable = true)\n",
      " |-- against_ground: double (nullable = true)\n",
      " |-- against_flying: double (nullable = true)\n",
      " |-- against_psychic: double (nullable = true)\n",
      " |-- against_bug: double (nullable = true)\n",
      " |-- against_rock: double (nullable = true)\n",
      " |-- against_ghost: double (nullable = true)\n",
      " |-- against_dragon: double (nullable = true)\n",
      " |-- against_dark: double (nullable = true)\n",
      " |-- against_steel: double (nullable = true)\n",
      " |-- against_fairy: double (nullable = true)\n",
      "\n"
     ]
    }
   ],
   "source": [
    "pokemon.printSchema()"
   ]
  },
  {
   "cell_type": "code",
   "execution_count": 15,
   "id": "recorded-juice",
   "metadata": {},
   "outputs": [
    {
     "data": {
      "text/plain": [
       "793"
      ]
     },
     "execution_count": 15,
     "metadata": {},
     "output_type": "execute_result"
    }
   ],
   "source": [
    "pokemon.count()"
   ]
  },
  {
   "cell_type": "code",
   "execution_count": 16,
   "id": "vertical-manchester",
   "metadata": {},
   "outputs": [
    {
     "name": "stdout",
     "output_type": "stream",
     "text": [
      "+-----------------+\n",
      "|count(DISTINCT #)|\n",
      "+-----------------+\n",
      "|              793|\n",
      "+-----------------+\n",
      "\n"
     ]
    }
   ],
   "source": [
    "from pyspark.sql.functions import countDistinct\n",
    "df2=pokemon.select(countDistinct(\"#\"))\n",
    "df2.show()"
   ]
  },
  {
   "cell_type": "markdown",
   "id": "lesser-dakota",
   "metadata": {},
   "source": [
    "### File 3: combats.csv"
   ]
  },
  {
   "cell_type": "code",
   "execution_count": 17,
   "id": "worse-oakland",
   "metadata": {},
   "outputs": [],
   "source": [
    "combats = spark.read.csv(\"data/combats.csv\", header=True, inferSchema=True)"
   ]
  },
  {
   "cell_type": "code",
   "execution_count": 18,
   "id": "headed-hometown",
   "metadata": {},
   "outputs": [
    {
     "data": {
      "text/plain": [
       "50000"
      ]
     },
     "execution_count": 18,
     "metadata": {},
     "output_type": "execute_result"
    }
   ],
   "source": [
    "combats.count()"
   ]
  },
  {
   "cell_type": "code",
   "execution_count": 19,
   "id": "individual-quilt",
   "metadata": {},
   "outputs": [
    {
     "name": "stdout",
     "output_type": "stream",
     "text": [
      "root\n",
      " |-- First_pokemon: integer (nullable = true)\n",
      " |-- Second_pokemon: integer (nullable = true)\n",
      " |-- Winner: integer (nullable = true)\n",
      "\n"
     ]
    }
   ],
   "source": [
    "combats.printSchema()"
   ]
  },
  {
   "cell_type": "code",
   "execution_count": 20,
   "id": "republican-hazard",
   "metadata": {},
   "outputs": [
    {
     "name": "stdout",
     "output_type": "stream",
     "text": [
      "+-----------------------------+\n",
      "|count(DISTINCT First_pokemon)|\n",
      "+-----------------------------+\n",
      "|                          784|\n",
      "+-----------------------------+\n",
      "\n"
     ]
    }
   ],
   "source": [
    "from pyspark.sql.functions import countDistinct\n",
    "df3=combats.select(countDistinct(\"First_pokemon\"))\n",
    "df3.show()"
   ]
  },
  {
   "cell_type": "markdown",
   "id": "destroyed-significance",
   "metadata": {},
   "source": [
    "### Joining Stats of First Pokemon to each combat"
   ]
  },
  {
   "cell_type": "code",
   "execution_count": 21,
   "id": "controlling-relative",
   "metadata": {},
   "outputs": [
    {
     "name": "stdout",
     "output_type": "stream",
     "text": [
      "root\n",
      " |-- #: integer (nullable = true)\n",
      " |-- Second_pokemon: integer (nullable = true)\n",
      " |-- Winner: integer (nullable = true)\n",
      "\n"
     ]
    }
   ],
   "source": [
    "combats=combats.withColumnRenamed(\"First_pokemon\", \"#\")\n",
    "combats.printSchema()"
   ]
  },
  {
   "cell_type": "code",
   "execution_count": 22,
   "id": "atomic-courtesy",
   "metadata": {},
   "outputs": [],
   "source": [
    "poke1=combats.join(pokemon, on=\"#\", how=\"inner\")"
   ]
  },
  {
   "cell_type": "code",
   "execution_count": 23,
   "id": "civic-protein",
   "metadata": {},
   "outputs": [
    {
     "data": {
      "text/plain": [
       "49556"
      ]
     },
     "execution_count": 23,
     "metadata": {},
     "output_type": "execute_result"
    }
   ],
   "source": [
    "poke1.count()"
   ]
  },
  {
   "cell_type": "code",
   "execution_count": 24,
   "id": "diverse-czech",
   "metadata": {},
   "outputs": [
    {
     "name": "stdout",
     "output_type": "stream",
     "text": [
      "+---+--------------+------+---------+---------+----------+------+------------+-----------+------+------+--------+---------+----------------+---------+---------+--------------+------------+---+------+-------+---------+----------+-----+----------+---------------+---------------+-----------+---------------+----------+----------+---------------+----------+--------------+------------+-------------+----------------+-------------+-----------+-------------+--------------+--------------+--------------+---------------+-----------+------------+-------------+--------------+------------+-------------+-------------+\n",
      "|  #|Second_pokemon|Winner|Legendary|     name|generation|status|     species|type_number|type_1|type_2|height_m|weight_kg|abilities_number|ability_1|ability_2|ability_hidden|total_points| hp|attack|defense|sp_attack|sp_defense|speed|catch_rate|base_friendship|base_experience|growth_rate|egg_type_number|egg_type_1|egg_type_2|percentage_male|egg_cycles|against_normal|against_fire|against_water|against_electric|against_grass|against_ice|against_fight|against_poison|against_ground|against_flying|against_psychic|against_bug|against_rock|against_ghost|against_dragon|against_dark|against_steel|against_fairy|\n",
      "+---+--------------+------+---------+---------+----------+------+------------+-----------+------+------+--------+---------+----------------+---------+---------+--------------+------------+---+------+-------+---------+----------+-----+----------+---------------+---------------+-----------+---------------+----------+----------+---------------+----------+--------------+------------+-------------+----------------+-------------+-----------+-------------+--------------+--------------+--------------+---------------+-----------+------------+-------------+--------------+------------+-------------+-------------+\n",
      "|  1|           227|   227|    false|Bulbasaur|         1|Normal|Seed Pokémon|          2| Grass|Poison|     0.7|      6.9|               2| Overgrow|     null|   Chlorophyll|         318| 45|    49|     49|       65|        65|   45|        45|             70|             64|Medium Slow|              2|     Grass|   Monster|           87.5|        20|           1.0|         2.0|          0.5|             0.5|         0.25|        2.0|          0.5|           1.0|           1.0|           2.0|            2.0|        1.0|         1.0|          1.0|           1.0|         1.0|          1.0|          0.5|\n",
      "|  1|           346|     1|    false|Bulbasaur|         1|Normal|Seed Pokémon|          2| Grass|Poison|     0.7|      6.9|               2| Overgrow|     null|   Chlorophyll|         318| 45|    49|     49|       65|        65|   45|        45|             70|             64|Medium Slow|              2|     Grass|   Monster|           87.5|        20|           1.0|         2.0|          0.5|             0.5|         0.25|        2.0|          0.5|           1.0|           1.0|           2.0|            2.0|        1.0|         1.0|          1.0|           1.0|         1.0|          1.0|          0.5|\n",
      "|  1|           217|   217|    false|Bulbasaur|         1|Normal|Seed Pokémon|          2| Grass|Poison|     0.7|      6.9|               2| Overgrow|     null|   Chlorophyll|         318| 45|    49|     49|       65|        65|   45|        45|             70|             64|Medium Slow|              2|     Grass|   Monster|           87.5|        20|           1.0|         2.0|          0.5|             0.5|         0.25|        2.0|          0.5|           1.0|           1.0|           2.0|            2.0|        1.0|         1.0|          1.0|           1.0|         1.0|          1.0|          0.5|\n",
      "|  1|           533|   533|    false|Bulbasaur|         1|Normal|Seed Pokémon|          2| Grass|Poison|     0.7|      6.9|               2| Overgrow|     null|   Chlorophyll|         318| 45|    49|     49|       65|        65|   45|        45|             70|             64|Medium Slow|              2|     Grass|   Monster|           87.5|        20|           1.0|         2.0|          0.5|             0.5|         0.25|        2.0|          0.5|           1.0|           1.0|           2.0|            2.0|        1.0|         1.0|          1.0|           1.0|         1.0|          1.0|          0.5|\n",
      "|  1|           311|   311|    false|Bulbasaur|         1|Normal|Seed Pokémon|          2| Grass|Poison|     0.7|      6.9|               2| Overgrow|     null|   Chlorophyll|         318| 45|    49|     49|       65|        65|   45|        45|             70|             64|Medium Slow|              2|     Grass|   Monster|           87.5|        20|           1.0|         2.0|          0.5|             0.5|         0.25|        2.0|          0.5|           1.0|           1.0|           2.0|            2.0|        1.0|         1.0|          1.0|           1.0|         1.0|          1.0|          0.5|\n",
      "+---+--------------+------+---------+---------+----------+------+------------+-----------+------+------+--------+---------+----------------+---------+---------+--------------+------------+---+------+-------+---------+----------+-----+----------+---------------+---------------+-----------+---------------+----------+----------+---------------+----------+--------------+------------+-------------+----------------+-------------+-----------+-------------+--------------+--------------+--------------+---------------+-----------+------------+-------------+--------------+------------+-------------+-------------+\n",
      "only showing top 5 rows\n",
      "\n"
     ]
    }
   ],
   "source": [
    "poke1.show(n=5)"
   ]
  },
  {
   "cell_type": "code",
   "execution_count": 25,
   "id": "swedish-tunisia",
   "metadata": {},
   "outputs": [
    {
     "data": {
      "text/plain": [
       "70"
      ]
     },
     "execution_count": 25,
     "metadata": {},
     "output_type": "execute_result"
    }
   ],
   "source": [
    "#Checking\n",
    "combats.filter(combats[\"#\"]==1).count()"
   ]
  },
  {
   "cell_type": "code",
   "execution_count": 26,
   "id": "major-parish",
   "metadata": {},
   "outputs": [
    {
     "data": {
      "text/plain": [
       "70"
      ]
     },
     "execution_count": 26,
     "metadata": {},
     "output_type": "execute_result"
    }
   ],
   "source": [
    "poke1.filter(pokemon[\"#\"]==1).count()"
   ]
  },
  {
   "cell_type": "markdown",
   "id": "mechanical-samba",
   "metadata": {},
   "source": [
    "### Joining Stats of second pokemon"
   ]
  },
  {
   "cell_type": "code",
   "execution_count": 27,
   "id": "subtle-wrapping",
   "metadata": {},
   "outputs": [
    {
     "name": "stdout",
     "output_type": "stream",
     "text": [
      "root\n",
      " |-- Second_pokemon: integer (nullable = true)\n",
      " |-- Legendary: boolean (nullable = true)\n",
      " |-- name: string (nullable = true)\n",
      " |-- generation: integer (nullable = true)\n",
      " |-- status: string (nullable = true)\n",
      " |-- species: string (nullable = true)\n",
      " |-- type_number: integer (nullable = true)\n",
      " |-- type_1: string (nullable = true)\n",
      " |-- type_2: string (nullable = true)\n",
      " |-- height_m: double (nullable = true)\n",
      " |-- weight_kg: double (nullable = true)\n",
      " |-- abilities_number: integer (nullable = true)\n",
      " |-- ability_1: string (nullable = true)\n",
      " |-- ability_2: string (nullable = true)\n",
      " |-- ability_hidden: string (nullable = true)\n",
      " |-- total_points: integer (nullable = true)\n",
      " |-- hp: integer (nullable = true)\n",
      " |-- attack: integer (nullable = true)\n",
      " |-- defense: integer (nullable = true)\n",
      " |-- sp_attack: integer (nullable = true)\n",
      " |-- sp_defense: integer (nullable = true)\n",
      " |-- speed: integer (nullable = true)\n",
      " |-- catch_rate: integer (nullable = true)\n",
      " |-- base_friendship: integer (nullable = true)\n",
      " |-- base_experience: integer (nullable = true)\n",
      " |-- growth_rate: string (nullable = true)\n",
      " |-- egg_type_number: integer (nullable = true)\n",
      " |-- egg_type_1: string (nullable = true)\n",
      " |-- egg_type_2: string (nullable = true)\n",
      " |-- percentage_male: double (nullable = true)\n",
      " |-- egg_cycles: integer (nullable = true)\n",
      " |-- against_normal: double (nullable = true)\n",
      " |-- against_fire: double (nullable = true)\n",
      " |-- against_water: double (nullable = true)\n",
      " |-- against_electric: double (nullable = true)\n",
      " |-- against_grass: double (nullable = true)\n",
      " |-- against_ice: double (nullable = true)\n",
      " |-- against_fight: double (nullable = true)\n",
      " |-- against_poison: double (nullable = true)\n",
      " |-- against_ground: double (nullable = true)\n",
      " |-- against_flying: double (nullable = true)\n",
      " |-- against_psychic: double (nullable = true)\n",
      " |-- against_bug: double (nullable = true)\n",
      " |-- against_rock: double (nullable = true)\n",
      " |-- against_ghost: double (nullable = true)\n",
      " |-- against_dragon: double (nullable = true)\n",
      " |-- against_dark: double (nullable = true)\n",
      " |-- against_steel: double (nullable = true)\n",
      " |-- against_fairy: double (nullable = true)\n",
      "\n"
     ]
    }
   ],
   "source": [
    "poke2 = pokemon.withColumnRenamed(\"#\", \"Second_pokemon\")\n",
    "poke2.printSchema()"
   ]
  },
  {
   "cell_type": "code",
   "execution_count": 28,
   "id": "south-bookmark",
   "metadata": {},
   "outputs": [
    {
     "name": "stdout",
     "output_type": "stream",
     "text": [
      "root\n",
      " |-- Second_pokemon: integer (nullable = true)\n",
      " |-- Legendary_2: boolean (nullable = true)\n",
      " |-- name_2: string (nullable = true)\n",
      " |-- generation_2: integer (nullable = true)\n",
      " |-- status_2: string (nullable = true)\n",
      " |-- species_2: string (nullable = true)\n",
      " |-- type_number_2: integer (nullable = true)\n",
      " |-- type_1_2: string (nullable = true)\n",
      " |-- type_2_2: string (nullable = true)\n",
      " |-- height_m_2: double (nullable = true)\n",
      " |-- weight_kg_2: double (nullable = true)\n",
      " |-- abilities_number_2: integer (nullable = true)\n",
      " |-- ability_1_2: string (nullable = true)\n",
      " |-- ability_2_2: string (nullable = true)\n",
      " |-- ability_hidden_2: string (nullable = true)\n",
      " |-- total_points_2: integer (nullable = true)\n",
      " |-- hp_2: integer (nullable = true)\n",
      " |-- attack_2: integer (nullable = true)\n",
      " |-- defense_2: integer (nullable = true)\n",
      " |-- sp_attack_2: integer (nullable = true)\n",
      " |-- sp_defense_2: integer (nullable = true)\n",
      " |-- speed_2: integer (nullable = true)\n",
      " |-- catch_rate_2: integer (nullable = true)\n",
      " |-- base_friendship_2: integer (nullable = true)\n",
      " |-- base_experience_2: integer (nullable = true)\n",
      " |-- growth_rate_2: string (nullable = true)\n",
      " |-- egg_type_number_2: integer (nullable = true)\n",
      " |-- egg_type_1_2: string (nullable = true)\n",
      " |-- egg_type_2_2: string (nullable = true)\n",
      " |-- percentage_male_2: double (nullable = true)\n",
      " |-- egg_cycles_2: integer (nullable = true)\n",
      " |-- against_normal_2: double (nullable = true)\n",
      " |-- against_fire_2: double (nullable = true)\n",
      " |-- against_water_2: double (nullable = true)\n",
      " |-- against_electric_2: double (nullable = true)\n",
      " |-- against_grass_2: double (nullable = true)\n",
      " |-- against_ice_2: double (nullable = true)\n",
      " |-- against_fight_2: double (nullable = true)\n",
      " |-- against_poison_2: double (nullable = true)\n",
      " |-- against_ground_2: double (nullable = true)\n",
      " |-- against_flying_2: double (nullable = true)\n",
      " |-- against_psychic_2: double (nullable = true)\n",
      " |-- against_bug_2: double (nullable = true)\n",
      " |-- against_rock_2: double (nullable = true)\n",
      " |-- against_ghost_2: double (nullable = true)\n",
      " |-- against_dragon_2: double (nullable = true)\n",
      " |-- against_dark_2: double (nullable = true)\n",
      " |-- against_steel_2: double (nullable = true)\n",
      " |-- against_fairy_2: double (nullable = true)\n",
      "\n"
     ]
    }
   ],
   "source": [
    "#Renaming columns for Second Pokemon Stats\n",
    "cols2=list(poke2.schema.names)\n",
    "tmp=cols2[1:]\n",
    "new_cols2=[cols2[0]]\n",
    "new_cols2.extend([i+\"_2\" for i in tmp])\n",
    "\n",
    "for i in range (len(cols2)):\n",
    "    poke2=poke2.withColumnRenamed(cols2[i], new_cols2[i])\n",
    "\n",
    "poke2.printSchema()"
   ]
  },
  {
   "cell_type": "code",
   "execution_count": 29,
   "id": "nearby-therapy",
   "metadata": {},
   "outputs": [],
   "source": [
    "poke_df=poke1.join(poke2, on=\"Second_pokemon\", how=\"inner\")"
   ]
  },
  {
   "cell_type": "code",
   "execution_count": 30,
   "id": "played-participant",
   "metadata": {},
   "outputs": [
    {
     "data": {
      "text/plain": [
       "49161"
      ]
     },
     "execution_count": 30,
     "metadata": {},
     "output_type": "execute_result"
    }
   ],
   "source": [
    "poke_df.count()"
   ]
  },
  {
   "cell_type": "code",
   "execution_count": 31,
   "id": "widespread-daughter",
   "metadata": {},
   "outputs": [
    {
     "name": "stdout",
     "output_type": "stream",
     "text": [
      "+--------------+---+------+---------+----------------+----------+------+-------------+-----------+------+------+--------+---------+----------------+-----------+---------+--------------+------------+---+------+-------+---------+----------+-----+----------+---------------+---------------+-----------+---------------+----------+----------+---------------+----------+--------------+------------+-------------+----------------+-------------+-----------+-------------+--------------+--------------+--------------+---------------+-----------+------------+-------------+--------------+------------+-------------+-------------+-----------+---------+------------+--------+-----------------+-------------+--------+--------+----------+-----------+------------------+------------+-----------+----------------+--------------+----+--------+---------+-----------+------------+-------+------------+-----------------+-----------------+-------------+-----------------+------------+------------+-----------------+------------+----------------+--------------+---------------+------------------+---------------+-------------+---------------+----------------+----------------+----------------+-----------------+-------------+--------------+---------------+----------------+--------------+---------------+---------------+\n",
      "|Second_pokemon|  #|Winner|Legendary|            name|generation|status|      species|type_number|type_1|type_2|height_m|weight_kg|abilities_number|  ability_1|ability_2|ability_hidden|total_points| hp|attack|defense|sp_attack|sp_defense|speed|catch_rate|base_friendship|base_experience|growth_rate|egg_type_number|egg_type_1|egg_type_2|percentage_male|egg_cycles|against_normal|against_fire|against_water|against_electric|against_grass|against_ice|against_fight|against_poison|against_ground|against_flying|against_psychic|against_bug|against_rock|against_ghost|against_dragon|against_dark|against_steel|against_fairy|Legendary_2|   name_2|generation_2|status_2|        species_2|type_number_2|type_1_2|type_2_2|height_m_2|weight_kg_2|abilities_number_2| ability_1_2|ability_2_2|ability_hidden_2|total_points_2|hp_2|attack_2|defense_2|sp_attack_2|sp_defense_2|speed_2|catch_rate_2|base_friendship_2|base_experience_2|growth_rate_2|egg_type_number_2|egg_type_1_2|egg_type_2_2|percentage_male_2|egg_cycles_2|against_normal_2|against_fire_2|against_water_2|against_electric_2|against_grass_2|against_ice_2|against_fight_2|against_poison_2|against_ground_2|against_flying_2|against_psychic_2|against_bug_2|against_rock_2|against_ghost_2|against_dragon_2|against_dark_2|against_steel_2|against_fairy_2|\n",
      "+--------------+---+------+---------+----------------+----------+------+-------------+-----------+------+------+--------+---------+----------------+-----------+---------+--------------+------------+---+------+-------+---------+----------+-----+----------+---------------+---------------+-----------+---------------+----------+----------+---------------+----------+--------------+------------+-------------+----------------+-------------+-----------+-------------+--------------+--------------+--------------+---------------+-----------+------------+-------------+--------------+------------+-------------+-------------+-----------+---------+------------+--------+-----------------+-------------+--------+--------+----------+-----------+------------------+------------+-----------+----------------+--------------+----+--------+---------+-----------+------------+-------+------------+-----------------+-----------------+-------------+-----------------+------------+------------+-----------------+------------+----------------+--------------+---------------+------------------+---------------+-------------+---------------+----------------+----------------+----------------+-----------------+-------------+--------------+---------------+----------------+--------------+---------------+---------------+\n",
      "|           463|  3|     3|    false|        Venusaur|         1|Normal| Seed Pokémon|          2| Grass|Poison|     2.0|    100.0|               2|   Overgrow|     null|   Chlorophyll|         525| 80|    82|     83|      100|       100|   80|        45|             70|            236|Medium Slow|              2|     Grass|   Monster|           87.5|        20|           1.0|         2.0|          0.5|             0.5|         0.25|        2.0|          0.5|           1.0|           1.0|           2.0|            2.0|        1.0|         1.0|          1.0|           1.0|         1.0|          1.0|          0.5|      false|   Combee|           4|  Normal| Tiny Bee Pokémon|            2|     Bug|  Flying|       0.3|        5.5|                 2|Honey Gather|       null|          Hustle|           244|  30|      30|       42|         30|          42|     70|         120|               70|               49|  Medium Slow|                1|         Bug|        null|             87.5|          15|             1.0|           2.0|            1.0|               2.0|           0.25|          2.0|           0.25|             1.0|             0.0|             2.0|              1.0|          0.5|           4.0|            1.0|             1.0|           1.0|            1.0|            1.0|\n",
      "|           471|  6|   471|    false|      Charmeleon|         1|Normal|Flame Pokémon|          1|  Fire|  null|     1.1|     19.0|               2|      Blaze|     null|   Solar Power|         405| 58|    64|     58|       80|        65|   80|        45|             70|            142|Medium Slow|              2|    Dragon|   Monster|           87.5|        20|           1.0|         0.5|          2.0|             1.0|          0.5|        0.5|          1.0|           1.0|           2.0|           1.0|            1.0|        0.5|         2.0|          1.0|           1.0|         1.0|          0.5|          0.5|      false|Gastrodon|           4|  Normal| Sea Slug Pokémon|            2|   Water|  Ground|       0.9|       29.9|                 3| Sticky Hold|Storm Drain|      Sand Force|           475| 111|      83|       68|         92|          82|     39|          75|               70|              166|  Medium Fast|                2|   Amorphous|     Water 1|             50.0|          20|             1.0|           0.5|            1.0|               0.0|            4.0|          1.0|            1.0|             0.5|             1.0|             1.0|              1.0|          1.0|           0.5|            1.0|             1.0|           1.0|            0.5|            1.0|\n",
      "|           471|  8|     8|    false|Mega Charizard X|         1|Normal|Flame Pokémon|          2|  Fire|Dragon|     1.7|    110.5|               1|Tough Claws|     null|          null|         634| 78|   130|    111|      130|        85|  100|        45|             70|            285|Medium Slow|              2|    Dragon|   Monster|           87.5|        20|           1.0|        0.25|          1.0|             0.5|         0.25|        1.0|          1.0|           1.0|           2.0|           1.0|            1.0|        0.5|         2.0|          1.0|           2.0|         1.0|          0.5|          1.0|      false|Gastrodon|           4|  Normal| Sea Slug Pokémon|            2|   Water|  Ground|       0.9|       29.9|                 3| Sticky Hold|Storm Drain|      Sand Force|           475| 111|      83|       68|         92|          82|     39|          75|               70|              166|  Medium Fast|                2|   Amorphous|     Water 1|             50.0|          20|             1.0|           0.5|            1.0|               0.0|            4.0|          1.0|            1.0|             0.5|             1.0|             1.0|              1.0|          1.0|           0.5|            1.0|             1.0|           1.0|            0.5|            1.0|\n",
      "|           496|  9|     9|    false|Mega Charizard Y|         1|Normal|Flame Pokémon|          2|  Fire|Flying|     1.7|    100.5|               1|    Drought|     null|          null|         634| 78|   104|     78|      159|       115|  100|        45|             70|            285|Medium Slow|              2|    Dragon|   Monster|           87.5|        20|           1.0|         0.5|          2.0|             2.0|         0.25|        1.0|          0.5|           1.0|           0.0|           1.0|            1.0|       0.25|         4.0|          1.0|           1.0|         1.0|          0.5|          0.5|      false| Munchlax|           4|  Normal|Big Eater Pokémon|            1|  Normal|    null|       0.6|      105.0|                 3|      Pickup|  Thick Fat|        Gluttony|           390| 135|      85|       40|         40|          85|      5|          50|               70|               78|         Slow|                1|Undiscovered|        null|             87.5|          40|             1.0|           1.0|            1.0|               1.0|            1.0|          1.0|            2.0|             1.0|             1.0|             1.0|              1.0|          1.0|           1.0|            0.0|             1.0|           1.0|            1.0|            1.0|\n",
      "|           148|  9|     9|    false|Mega Charizard Y|         1|Normal|Flame Pokémon|          2|  Fire|Flying|     1.7|    100.5|               1|    Drought|     null|          null|         634| 78|   104|     78|      159|       115|  100|        45|             70|            285|Medium Slow|              2|    Dragon|   Monster|           87.5|        20|           1.0|         0.5|          2.0|             2.0|         0.25|        1.0|          0.5|           1.0|           0.0|           1.0|            1.0|       0.25|         4.0|          1.0|           1.0|         1.0|          0.5|          0.5|      false|  Flareon|           1|  Normal|    Flame Pokémon|            1|    Fire|    null|       0.9|       25.0|                 2|  Flash Fire|       null|            Guts|           525|  65|     130|       60|         95|         110|     65|          45|               70|              184|  Medium Fast|                1|       Field|        null|             87.5|          35|             1.0|           0.0|            2.0|               1.0|            0.5|          0.5|            1.0|             1.0|             2.0|             1.0|              1.0|          0.5|           2.0|            1.0|             1.0|           1.0|            0.5|            0.5|\n",
      "+--------------+---+------+---------+----------------+----------+------+-------------+-----------+------+------+--------+---------+----------------+-----------+---------+--------------+------------+---+------+-------+---------+----------+-----+----------+---------------+---------------+-----------+---------------+----------+----------+---------------+----------+--------------+------------+-------------+----------------+-------------+-----------+-------------+--------------+--------------+--------------+---------------+-----------+------------+-------------+--------------+------------+-------------+-------------+-----------+---------+------------+--------+-----------------+-------------+--------+--------+----------+-----------+------------------+------------+-----------+----------------+--------------+----+--------+---------+-----------+------------+-------+------------+-----------------+-----------------+-------------+-----------------+------------+------------+-----------------+------------+----------------+--------------+---------------+------------------+---------------+-------------+---------------+----------------+----------------+----------------+-----------------+-------------+--------------+---------------+----------------+--------------+---------------+---------------+\n",
      "only showing top 5 rows\n",
      "\n"
     ]
    }
   ],
   "source": [
    "poke_df.show(n=5)"
   ]
  },
  {
   "cell_type": "code",
   "execution_count": 32,
   "id": "sticky-confirmation",
   "metadata": {},
   "outputs": [],
   "source": [
    "#Winner=1 if First Pokemon is the Winner, 0 Otherwise\n",
    "from pyspark.sql.functions import when\n",
    "poke_df = poke_df.withColumn(\"Winner\", when(poke_df[\"Winner\"] == poke_df[\"#\"], 1).otherwise(0))"
   ]
  },
  {
   "cell_type": "code",
   "execution_count": 33,
   "id": "graphic-transmission",
   "metadata": {},
   "outputs": [],
   "source": [
    "poke_df=poke_df.withColumnRenamed(\"#\", \"First_pokemon\")"
   ]
  },
  {
   "cell_type": "code",
   "execution_count": 34,
   "id": "functioning-angle",
   "metadata": {},
   "outputs": [
    {
     "name": "stdout",
     "output_type": "stream",
     "text": [
      "+--------------+-------------+------+---------+----------------+----------+------+-------------+-----------+------+------+--------+---------+----------------+-----------+---------+--------------+------------+---+------+-------+---------+----------+-----+----------+---------------+---------------+-----------+---------------+----------+----------+---------------+----------+--------------+------------+-------------+----------------+-------------+-----------+-------------+--------------+--------------+--------------+---------------+-----------+------------+-------------+--------------+------------+-------------+-------------+-----------+---------+------------+--------+-----------------+-------------+--------+--------+----------+-----------+------------------+------------+-----------+----------------+--------------+----+--------+---------+-----------+------------+-------+------------+-----------------+-----------------+-------------+-----------------+------------+------------+-----------------+------------+----------------+--------------+---------------+------------------+---------------+-------------+---------------+----------------+----------------+----------------+-----------------+-------------+--------------+---------------+----------------+--------------+---------------+---------------+\n",
      "|Second_pokemon|First_pokemon|Winner|Legendary|            name|generation|status|      species|type_number|type_1|type_2|height_m|weight_kg|abilities_number|  ability_1|ability_2|ability_hidden|total_points| hp|attack|defense|sp_attack|sp_defense|speed|catch_rate|base_friendship|base_experience|growth_rate|egg_type_number|egg_type_1|egg_type_2|percentage_male|egg_cycles|against_normal|against_fire|against_water|against_electric|against_grass|against_ice|against_fight|against_poison|against_ground|against_flying|against_psychic|against_bug|against_rock|against_ghost|against_dragon|against_dark|against_steel|against_fairy|Legendary_2|   name_2|generation_2|status_2|        species_2|type_number_2|type_1_2|type_2_2|height_m_2|weight_kg_2|abilities_number_2| ability_1_2|ability_2_2|ability_hidden_2|total_points_2|hp_2|attack_2|defense_2|sp_attack_2|sp_defense_2|speed_2|catch_rate_2|base_friendship_2|base_experience_2|growth_rate_2|egg_type_number_2|egg_type_1_2|egg_type_2_2|percentage_male_2|egg_cycles_2|against_normal_2|against_fire_2|against_water_2|against_electric_2|against_grass_2|against_ice_2|against_fight_2|against_poison_2|against_ground_2|against_flying_2|against_psychic_2|against_bug_2|against_rock_2|against_ghost_2|against_dragon_2|against_dark_2|against_steel_2|against_fairy_2|\n",
      "+--------------+-------------+------+---------+----------------+----------+------+-------------+-----------+------+------+--------+---------+----------------+-----------+---------+--------------+------------+---+------+-------+---------+----------+-----+----------+---------------+---------------+-----------+---------------+----------+----------+---------------+----------+--------------+------------+-------------+----------------+-------------+-----------+-------------+--------------+--------------+--------------+---------------+-----------+------------+-------------+--------------+------------+-------------+-------------+-----------+---------+------------+--------+-----------------+-------------+--------+--------+----------+-----------+------------------+------------+-----------+----------------+--------------+----+--------+---------+-----------+------------+-------+------------+-----------------+-----------------+-------------+-----------------+------------+------------+-----------------+------------+----------------+--------------+---------------+------------------+---------------+-------------+---------------+----------------+----------------+----------------+-----------------+-------------+--------------+---------------+----------------+--------------+---------------+---------------+\n",
      "|           463|            3|     1|    false|        Venusaur|         1|Normal| Seed Pokémon|          2| Grass|Poison|     2.0|    100.0|               2|   Overgrow|     null|   Chlorophyll|         525| 80|    82|     83|      100|       100|   80|        45|             70|            236|Medium Slow|              2|     Grass|   Monster|           87.5|        20|           1.0|         2.0|          0.5|             0.5|         0.25|        2.0|          0.5|           1.0|           1.0|           2.0|            2.0|        1.0|         1.0|          1.0|           1.0|         1.0|          1.0|          0.5|      false|   Combee|           4|  Normal| Tiny Bee Pokémon|            2|     Bug|  Flying|       0.3|        5.5|                 2|Honey Gather|       null|          Hustle|           244|  30|      30|       42|         30|          42|     70|         120|               70|               49|  Medium Slow|                1|         Bug|        null|             87.5|          15|             1.0|           2.0|            1.0|               2.0|           0.25|          2.0|           0.25|             1.0|             0.0|             2.0|              1.0|          0.5|           4.0|            1.0|             1.0|           1.0|            1.0|            1.0|\n",
      "|           471|            6|     0|    false|      Charmeleon|         1|Normal|Flame Pokémon|          1|  Fire|  null|     1.1|     19.0|               2|      Blaze|     null|   Solar Power|         405| 58|    64|     58|       80|        65|   80|        45|             70|            142|Medium Slow|              2|    Dragon|   Monster|           87.5|        20|           1.0|         0.5|          2.0|             1.0|          0.5|        0.5|          1.0|           1.0|           2.0|           1.0|            1.0|        0.5|         2.0|          1.0|           1.0|         1.0|          0.5|          0.5|      false|Gastrodon|           4|  Normal| Sea Slug Pokémon|            2|   Water|  Ground|       0.9|       29.9|                 3| Sticky Hold|Storm Drain|      Sand Force|           475| 111|      83|       68|         92|          82|     39|          75|               70|              166|  Medium Fast|                2|   Amorphous|     Water 1|             50.0|          20|             1.0|           0.5|            1.0|               0.0|            4.0|          1.0|            1.0|             0.5|             1.0|             1.0|              1.0|          1.0|           0.5|            1.0|             1.0|           1.0|            0.5|            1.0|\n",
      "|           471|            8|     1|    false|Mega Charizard X|         1|Normal|Flame Pokémon|          2|  Fire|Dragon|     1.7|    110.5|               1|Tough Claws|     null|          null|         634| 78|   130|    111|      130|        85|  100|        45|             70|            285|Medium Slow|              2|    Dragon|   Monster|           87.5|        20|           1.0|        0.25|          1.0|             0.5|         0.25|        1.0|          1.0|           1.0|           2.0|           1.0|            1.0|        0.5|         2.0|          1.0|           2.0|         1.0|          0.5|          1.0|      false|Gastrodon|           4|  Normal| Sea Slug Pokémon|            2|   Water|  Ground|       0.9|       29.9|                 3| Sticky Hold|Storm Drain|      Sand Force|           475| 111|      83|       68|         92|          82|     39|          75|               70|              166|  Medium Fast|                2|   Amorphous|     Water 1|             50.0|          20|             1.0|           0.5|            1.0|               0.0|            4.0|          1.0|            1.0|             0.5|             1.0|             1.0|              1.0|          1.0|           0.5|            1.0|             1.0|           1.0|            0.5|            1.0|\n",
      "|           496|            9|     1|    false|Mega Charizard Y|         1|Normal|Flame Pokémon|          2|  Fire|Flying|     1.7|    100.5|               1|    Drought|     null|          null|         634| 78|   104|     78|      159|       115|  100|        45|             70|            285|Medium Slow|              2|    Dragon|   Monster|           87.5|        20|           1.0|         0.5|          2.0|             2.0|         0.25|        1.0|          0.5|           1.0|           0.0|           1.0|            1.0|       0.25|         4.0|          1.0|           1.0|         1.0|          0.5|          0.5|      false| Munchlax|           4|  Normal|Big Eater Pokémon|            1|  Normal|    null|       0.6|      105.0|                 3|      Pickup|  Thick Fat|        Gluttony|           390| 135|      85|       40|         40|          85|      5|          50|               70|               78|         Slow|                1|Undiscovered|        null|             87.5|          40|             1.0|           1.0|            1.0|               1.0|            1.0|          1.0|            2.0|             1.0|             1.0|             1.0|              1.0|          1.0|           1.0|            0.0|             1.0|           1.0|            1.0|            1.0|\n",
      "|           148|            9|     1|    false|Mega Charizard Y|         1|Normal|Flame Pokémon|          2|  Fire|Flying|     1.7|    100.5|               1|    Drought|     null|          null|         634| 78|   104|     78|      159|       115|  100|        45|             70|            285|Medium Slow|              2|    Dragon|   Monster|           87.5|        20|           1.0|         0.5|          2.0|             2.0|         0.25|        1.0|          0.5|           1.0|           0.0|           1.0|            1.0|       0.25|         4.0|          1.0|           1.0|         1.0|          0.5|          0.5|      false|  Flareon|           1|  Normal|    Flame Pokémon|            1|    Fire|    null|       0.9|       25.0|                 2|  Flash Fire|       null|            Guts|           525|  65|     130|       60|         95|         110|     65|          45|               70|              184|  Medium Fast|                1|       Field|        null|             87.5|          35|             1.0|           0.0|            2.0|               1.0|            0.5|          0.5|            1.0|             1.0|             2.0|             1.0|              1.0|          0.5|           2.0|            1.0|             1.0|           1.0|            0.5|            0.5|\n",
      "+--------------+-------------+------+---------+----------------+----------+------+-------------+-----------+------+------+--------+---------+----------------+-----------+---------+--------------+------------+---+------+-------+---------+----------+-----+----------+---------------+---------------+-----------+---------------+----------+----------+---------------+----------+--------------+------------+-------------+----------------+-------------+-----------+-------------+--------------+--------------+--------------+---------------+-----------+------------+-------------+--------------+------------+-------------+-------------+-----------+---------+------------+--------+-----------------+-------------+--------+--------+----------+-----------+------------------+------------+-----------+----------------+--------------+----+--------+---------+-----------+------------+-------+------------+-----------------+-----------------+-------------+-----------------+------------+------------+-----------------+------------+----------------+--------------+---------------+------------------+---------------+-------------+---------------+----------------+----------------+----------------+-----------------+-------------+--------------+---------------+----------------+--------------+---------------+---------------+\n",
      "only showing top 5 rows\n",
      "\n"
     ]
    }
   ],
   "source": [
    "poke_df.show(n=5)"
   ]
  },
  {
   "cell_type": "markdown",
   "id": "olive-globe",
   "metadata": {},
   "source": [
    "### Writing dataframe to a csv for EDA"
   ]
  },
  {
   "cell_type": "code",
   "execution_count": 35,
   "id": "periodic-patio",
   "metadata": {},
   "outputs": [],
   "source": [
    "# poke_df.write.option(\"header\",True).csv(\"data/final_data.csv\")\n",
    "poke_df.toPandas().to_csv(\"data/final_data.csv\", header=True, index=False)"
   ]
  },
  {
   "cell_type": "markdown",
   "id": "overall-pocket",
   "metadata": {},
   "source": [
    "### Preparing training data for prediction"
   ]
  },
  {
   "cell_type": "code",
   "execution_count": 37,
   "id": "referenced-musical",
   "metadata": {},
   "outputs": [],
   "source": [
    "training_data=poke_df.drop(\"Second_pokemon\", \"#\", \"name\", \"name_2\")"
   ]
  },
  {
   "cell_type": "code",
   "execution_count": 38,
   "id": "determined-animation",
   "metadata": {},
   "outputs": [],
   "source": [
    "# training_data.write.option(\"header\",True).csv(\"data/training_data.csv\")\n",
    "training_data.toPandas().to_csv(\"data/training_data.csv\", header=True, index=False)"
   ]
  }
 ],
 "metadata": {
  "kernelspec": {
   "display_name": "Python 3",
   "language": "python",
   "name": "python3"
  },
  "language_info": {
   "codemirror_mode": {
    "name": "ipython",
    "version": 3
   },
   "file_extension": ".py",
   "mimetype": "text/x-python",
   "name": "python",
   "nbconvert_exporter": "python",
   "pygments_lexer": "ipython3",
   "version": "3.8.9"
  }
 },
 "nbformat": 4,
 "nbformat_minor": 5
}
